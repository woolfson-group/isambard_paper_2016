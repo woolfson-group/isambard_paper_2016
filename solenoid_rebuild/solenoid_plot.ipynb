{
 "cells": [
  {
   "cell_type": "code",
   "execution_count": null,
   "metadata": {
    "collapsed": true
   },
   "outputs": [],
   "source": [
    "import matplotlib.pyplot as plt\n",
    "import numpy\n",
    "%matplotlib inline"
   ]
  },
  {
   "cell_type": "code",
   "execution_count": null,
   "metadata": {
    "collapsed": true
   },
   "outputs": [],
   "source": [
    "def rmsd_100(rmsd, n):\n",
    "    return rmsd/(1+numpy.log(numpy.sqrt(n/100)))"
   ]
  },
  {
   "cell_type": "code",
   "execution_count": null,
   "metadata": {
    "collapsed": true
   },
   "outputs": [],
   "source": [
    "rmsds = [\n",
    "    ('4cym', 0.732, (4*18)),\n",
    "    ('4uuc', 0.325, (4*16)),\n",
    "    ('4qqi', 0.806, (4*17)),\n",
    "    ('4bj3', 0.849, (6*18)),\n",
    "    ('4axy', 0.603, (4*15)),\n",
    "    ('5cea', 1.555, (4*18)),\n",
    "    ('5ced', 1.802, (4*16)),\n",
    "    ('5d68', 0.620, (3*16)),\n",
    "    ('5hkp', 0.452, (3*15))\n",
    "]"
   ]
  },
  {
   "cell_type": "code",
   "execution_count": null,
   "metadata": {
    "collapsed": true
   },
   "outputs": [],
   "source": [
    "rmsds = [\n",
    "    ('4cym', 0.732, (4*18)),\n",
    "    ('4qfv', 0.325, (4*16)),\n",
    "    ('4qqi', 0.806, (4*17)),\n",
    "    ('4uuc', 0.849, (6*18)),\n",
    "    ('4zfh', 0.603, (4*15)),\n",
    "    ('5cea', 1.555, (4*18)),\n",
    "    ('5ced', 1.802, (4*16)),\n",
    "    ('5d68', 0.620, (3*16)),\n",
    "    ('5hkp', 0.452, (3*15))\n",
    "]"
   ]
  },
  {
   "cell_type": "code",
   "execution_count": null,
   "metadata": {
    "collapsed": false
   },
   "outputs": [],
   "source": [
    "rmsd_100s = []\n",
    "for x in rmsds:\n",
    "    rmsd_100s.append((x[0], rmsd_100(x[1], x[2]*3)))"
   ]
  },
  {
   "cell_type": "code",
   "execution_count": null,
   "metadata": {
    "collapsed": false
   },
   "outputs": [],
   "source": [
    "rmsd_100s"
   ]
  },
  {
   "cell_type": "code",
   "execution_count": null,
   "metadata": {
    "collapsed": false
   },
   "outputs": [],
   "source": [
    "sorted_rmsd_100s = sorted(rmsd_100s, key=lambda x: x[1])"
   ]
  },
  {
   "cell_type": "code",
   "execution_count": null,
   "metadata": {
    "collapsed": false
   },
   "outputs": [],
   "source": [
    "sorted_rmsd_100s"
   ]
  },
  {
   "cell_type": "code",
   "execution_count": null,
   "metadata": {
    "collapsed": false
   },
   "outputs": [],
   "source": [
    "numpy.mean([x[1] for x in sorted_rmsd_100s])"
   ]
  },
  {
   "cell_type": "code",
   "execution_count": null,
   "metadata": {
    "collapsed": false
   },
   "outputs": [],
   "source": [
    "numpy.std([x[1] for x in sorted_rmsd_100s])"
   ]
  },
  {
   "cell_type": "code",
   "execution_count": null,
   "metadata": {
    "collapsed": true
   },
   "outputs": [],
   "source": [
    "sorted_rmsds = sorted(rmsds, key=lambda x: x[1])\n",
    "indices = range(len(rmsds))"
   ]
  },
  {
   "cell_type": "code",
   "execution_count": null,
   "metadata": {
    "collapsed": false
   },
   "outputs": [],
   "source": [
    "fig = plt.figure()\n",
    "ax = fig.add_subplot(1, 1, 1)\n",
    "ax.set_xticks([x+0.4 for x in indices])\n",
    "ax.set_xticklabels([x[0] for x in sorted_rmsds], rotation='vertical', fontsize=14)\n",
    "ax.set_ylabel(\"RMSD Score\", fontsize=18)\n",
    "ax.bar(indices, [x[1] for x in sorted_rmsds], alpha=0.4)"
   ]
  },
  {
   "cell_type": "code",
   "execution_count": null,
   "metadata": {
    "collapsed": false
   },
   "outputs": [],
   "source": [
    "fig = plt.figure(figsize=(8, 8))\n",
    "ax = fig.add_subplot(1, 1, 1)\n",
    "ax.set_xlabel(\"Accession Code\", fontsize=22)\n",
    "ax.set_ylabel(\"Backbone RMSD 100 Score\", fontsize=22)\n",
    "#ax.set_title(\"RMSD100 Scores for Rebuilt\\nAnkyrin-Like Repeat Proteins\", fontsize=22)\n",
    "ax.set_xticks([x+0.4 for x in indices])\n",
    "ax.set_xticklabels([x[0] for x in sorted_rmsd_100s], rotation='vertical', fontsize=16)\n",
    "ax.set_ylim(0, 2.0)\n",
    "for label in ax.get_ymajorticklabels():\n",
    "    label.set_fontsize(16)\n",
    "ax.bar(indices, [x[1] for x in sorted_rmsd_100s], alpha=0.4)"
   ]
  },
  {
   "cell_type": "code",
   "execution_count": null,
   "metadata": {
    "collapsed": false
   },
   "outputs": [],
   "source": [
    "fig.savefig('solenoid_plot.pdf')"
   ]
  },
  {
   "cell_type": "code",
   "execution_count": null,
   "metadata": {
    "collapsed": true
   },
   "outputs": [],
   "source": []
  }
 ],
 "metadata": {
  "anaconda-cloud": {},
  "kernelspec": {
   "display_name": "Python [default]",
   "language": "python",
   "name": "python3"
  },
  "language_info": {
   "codemirror_mode": {
    "name": "ipython",
    "version": 3
   },
   "file_extension": ".py",
   "mimetype": "text/x-python",
   "name": "python",
   "nbconvert_exporter": "python",
   "pygments_lexer": "ipython3",
   "version": "3.5.2"
  }
 },
 "nbformat": 4,
 "nbformat_minor": 0
}
