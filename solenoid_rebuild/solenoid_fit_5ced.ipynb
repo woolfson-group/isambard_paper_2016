{
 "cells": [
  {
   "cell_type": "code",
   "execution_count": 1,
   "metadata": {
    "collapsed": true
   },
   "outputs": [],
   "source": [
    "import copy\n",
    "\n",
    "import isambard"
   ]
  },
  {
   "cell_type": "markdown",
   "metadata": {},
   "source": [
    "# Helix Pair"
   ]
  },
  {
   "cell_type": "code",
   "execution_count": 3,
   "metadata": {
    "collapsed": true
   },
   "outputs": [],
   "source": [
    "test_structure = isambard.ampal.convert_pdb_to_ampal('5ced.pdb')"
   ]
  },
  {
   "cell_type": "code",
   "execution_count": 6,
   "metadata": {
    "collapsed": false
   },
   "outputs": [],
   "source": [
    "sol1 = test_structure[1]"
   ]
  },
  {
   "cell_type": "code",
   "execution_count": 7,
   "metadata": {
    "collapsed": false
   },
   "outputs": [
    {
     "data": {
      "text/plain": [
       "['KALNEAAEQ',\n",
       " 'LAKVKNLVQ',\n",
       " 'PLMNAAM',\n",
       " 'LDIVKFLLS',\n",
       " 'ALAFAVT',\n",
       " 'YDVAEELIK',\n",
       " 'LFMRAA',\n",
       " 'KKTAESILAK',\n",
       " 'ALFAVARY',\n",
       " 'PADIDFLIK',\n",
       " 'ALDVAKE',\n",
       " 'QDTAKALSK']"
      ]
     },
     "execution_count": 7,
     "metadata": {},
     "output_type": "execute_result"
    }
   ],
   "source": [
    "sol1.helices.sequences"
   ]
  },
  {
   "cell_type": "code",
   "execution_count": 16,
   "metadata": {
    "collapsed": true
   },
   "outputs": [],
   "source": [
    "rep_hels = sol1.helices[4:6]"
   ]
  },
  {
   "cell_type": "code",
   "execution_count": 17,
   "metadata": {
    "collapsed": true
   },
   "outputs": [],
   "source": [
    "rep_hels.relabel_all()"
   ]
  },
  {
   "cell_type": "code",
   "execution_count": 18,
   "metadata": {
    "collapsed": true
   },
   "outputs": [],
   "source": [
    "with open('/Users/ChrisWood/Desktop/blah.pdb', 'w') as outf:\n",
    "    outf.write(rep_hels.pdb)"
   ]
  },
  {
   "cell_type": "code",
   "execution_count": 19,
   "metadata": {
    "collapsed": true
   },
   "outputs": [],
   "source": [
    "hel_pair = isambard.topology.HelixPair(aas=(7, 9))"
   ]
  },
  {
   "cell_type": "code",
   "execution_count": 20,
   "metadata": {
    "collapsed": false
   },
   "outputs": [
    {
     "data": {
      "text/plain": [
       "['GGGGGGG', 'GGGGGGGGG']"
      ]
     },
     "execution_count": 20,
     "metadata": {},
     "output_type": "execute_result"
    }
   ],
   "source": [
    "hel_pair.sequences"
   ]
  },
  {
   "cell_type": "code",
   "execution_count": 21,
   "metadata": {
    "collapsed": false
   },
   "outputs": [
    {
     "data": {
      "text/plain": [
       "['ALAFAVT', 'YDVAEELIK']"
      ]
     },
     "execution_count": 21,
     "metadata": {},
     "output_type": "execute_result"
    }
   ],
   "source": [
    "rep_hels.sequences"
   ]
  },
  {
   "cell_type": "code",
   "execution_count": 14,
   "metadata": {
    "collapsed": false
   },
   "outputs": [],
   "source": [
    "hel_pair.relabel_all()"
   ]
  },
  {
   "cell_type": "code",
   "execution_count": 22,
   "metadata": {
    "collapsed": false
   },
   "outputs": [],
   "source": [
    "hel_pair.pack_new_sequences(['LAFAVTN', 'YDVAEELIK'])"
   ]
  },
  {
   "cell_type": "code",
   "execution_count": 27,
   "metadata": {
    "collapsed": false
   },
   "outputs": [
    {
     "data": {
      "text/plain": [
       "['LAFAVTN', 'YDVAEELIK']"
      ]
     },
     "execution_count": 27,
     "metadata": {},
     "output_type": "execute_result"
    }
   ],
   "source": [
    "hel_pair.sequences"
   ]
  },
  {
   "cell_type": "code",
   "execution_count": 24,
   "metadata": {
    "collapsed": true
   },
   "outputs": [],
   "source": [
    "class HelPairOpt(isambard.topology.HelixPair):\n",
    "    def __init__(self, rad, zshift, phi1, phi2, sp, op):\n",
    "        super().__init__(aas=(7, 9), axis_distances=(-rad, rad), z_shifts=(0, zshift),\n",
    "                         phis=(phi1, phi2), splays=(0, sp), off_plane=(0, op))\n",
    "        self.relabel_all()"
   ]
  },
  {
   "cell_type": "code",
   "execution_count": 25,
   "metadata": {
    "collapsed": false
   },
   "outputs": [
    {
     "data": {
      "text/plain": [
       "[4.621, 4.542, 5.796]"
      ]
     },
     "execution_count": 25,
     "metadata": {},
     "output_type": "execute_result"
    }
   ],
   "source": [
    "isambard.external_programs.run_profit(rep_hels.pdb, hel_pair.pdb, path1=False, path2=False)"
   ]
  },
  {
   "cell_type": "code",
   "execution_count": 28,
   "metadata": {
    "collapsed": false
   },
   "outputs": [
    {
     "name": "stdout",
     "output_type": "stream",
     "text": [
      "Starting minimisation (2016-07-06 11:53:38)\n",
      "gen\tevals\tavg    \tstd     \tmin  \tmax  \n",
      "0  \t50   \t3.92018\t0.791047\t1.718\t4.959\n",
      "1  \t50   \t3.58168\t0.75757 \t1.718\t4.713\n",
      "2  \t50   \t3.24054\t0.743921\t1.173\t4.457\n",
      "3  \t50   \t2.98328\t0.681866\t1.173\t4.107\n",
      "4  \t50   \t2.68406\t0.666347\t0.84 \t3.821\n",
      "5  \t50   \t2.46702\t0.69223 \t0.84 \t3.481\n",
      "6  \t50   \t2.04302\t0.603826\t0.84 \t3.25 \n",
      "7  \t50   \t1.71052\t0.517575\t0.744\t3.172\n",
      "8  \t50   \t1.42712\t0.405186\t0.675\t2.381\n",
      "9  \t50   \t1.21512\t0.273443\t0.577\t1.742\n",
      "10 \t50   \t1.07134\t0.268004\t0.545\t1.742\n",
      "11 \t50   \t0.97452\t0.215966\t0.545\t1.531\n",
      "12 \t50   \t0.89056\t0.179743\t0.545\t1.224\n",
      "13 \t50   \t0.8275 \t0.153742\t0.545\t1.128\n",
      "14 \t50   \t0.78234\t0.140428\t0.545\t1.053\n",
      "15 \t50   \t0.71992\t0.135715\t0.527\t1.053\n",
      "16 \t50   \t0.67194\t0.102871\t0.527\t0.978\n",
      "17 \t50   \t0.62508\t0.0607552\t0.503\t0.759\n",
      "18 \t50   \t0.58616\t0.0533402\t0.478\t0.705\n",
      "19 \t50   \t0.55864\t0.0476725\t0.478\t0.685\n",
      "20 \t50   \t0.53778\t0.0404669\t0.439\t0.611\n",
      "21 \t50   \t0.5139 \t0.0361454\t0.434\t0.611\n",
      "22 \t50   \t0.49666\t0.0353936\t0.428\t0.607\n",
      "23 \t50   \t0.47582\t0.0307491\t0.389\t0.534\n",
      "24 \t50   \t0.4559 \t0.0338593\t0.369\t0.534\n",
      "25 \t50   \t0.43832\t0.0286059\t0.369\t0.503\n",
      "26 \t50   \t0.42262\t0.0209217\t0.369\t0.464\n",
      "27 \t50   \t0.41224\t0.0217095\t0.369\t0.454\n",
      "28 \t50   \t0.40456\t0.0204109\t0.359\t0.45 \n",
      "29 \t50   \t0.39318\t0.0157565\t0.359\t0.432\n",
      "30 \t50   \t0.3864 \t0.016473 \t0.359\t0.432\n",
      "31 \t50   \t0.37908\t0.0143887\t0.351\t0.416\n",
      "32 \t50   \t0.37078\t0.0112219\t0.347\t0.401\n",
      "33 \t50   \t0.3643 \t0.00866776\t0.346\t0.386\n",
      "34 \t50   \t0.35844\t0.00720322\t0.341\t0.373\n",
      "35 \t50   \t0.3553 \t0.00713092\t0.341\t0.369\n",
      "36 \t50   \t0.35128\t0.00592297\t0.341\t0.366\n",
      "37 \t50   \t0.34808\t0.00477426\t0.34 \t0.363\n",
      "38 \t50   \t0.3452 \t0.00335857\t0.336\t0.352\n",
      "39 \t50   \t0.34318\t0.00325386\t0.336\t0.349\n",
      "40 \t50   \t0.34152\t0.00283012\t0.335\t0.348\n",
      "41 \t50   \t0.34018\t0.0026585 \t0.334\t0.345\n",
      "42 \t50   \t0.33918\t0.00251944\t0.334\t0.345\n",
      "43 \t50   \t0.3382 \t0.00232379\t0.334\t0.343\n",
      "44 \t50   \t0.3371 \t0.00211896\t0.333\t0.341\n",
      "45 \t50   \t0.33614\t0.00192883\t0.333\t0.34 \n",
      "46 \t50   \t0.33512\t0.00192499\t0.332\t0.339\n",
      "47 \t50   \t0.33388\t0.00158291\t0.332\t0.339\n",
      "48 \t50   \t0.33294\t0.0013625 \t0.33 \t0.337\n",
      "49 \t50   \t0.33226\t0.00143958\t0.329\t0.335\n",
      "End of minimisation (2016-07-06 11:54:51)\n",
      "Run ID is DE_model\n",
      "Minimization time = 0:01:13.565591\n",
      "Evaluated 2550 models in total\n",
      "Best score is 0.329\n",
      "Best parameters are [4.7222425354130815, -4.334246962907844, 20.226528968373962, -62.02590589823341, -23.469411288705277, 201.81742826110045]\n"
     ]
    }
   ],
   "source": [
    "opt = isambard.optimisation.OptDE_rmsd(\n",
    "    HelPairOpt, rep_hels.pdb)\n",
    "opt.parameters(hel_pair.sequences,\n",
    "          [3, 0, 0, 0, 0, 180],\n",
    "          [3, 6, 180, 180, 45, 90],\n",
    "          ['var0', 'var1', 'var2', 'var3', 'var4', 'var5'])\n",
    "opt.run_de(50, 50, 3)"
   ]
  },
  {
   "cell_type": "code",
   "execution_count": 29,
   "metadata": {
    "collapsed": true
   },
   "outputs": [],
   "source": [
    "best_params = opt.parse_individual(opt.halloffame[0])"
   ]
  },
  {
   "cell_type": "code",
   "execution_count": 30,
   "metadata": {
    "collapsed": true
   },
   "outputs": [],
   "source": [
    "best = HelPairOpt(*best_params)\n",
    "best.pack_new_sequences(hel_pair.sequences)"
   ]
  },
  {
   "cell_type": "code",
   "execution_count": 31,
   "metadata": {
    "collapsed": true
   },
   "outputs": [],
   "source": [
    "with open('/Users/ChrisWood/Desktop/blah2.pdb', 'w') as outf:\n",
    "    outf.write(best.pdb)"
   ]
  },
  {
   "cell_type": "markdown",
   "metadata": {},
   "source": [
    "# Solenoid"
   ]
  },
  {
   "cell_type": "code",
   "execution_count": 42,
   "metadata": {
    "collapsed": true
   },
   "outputs": [],
   "source": [
    "target = isambard.ampal.Assembly()"
   ]
  },
  {
   "cell_type": "code",
   "execution_count": 43,
   "metadata": {
    "collapsed": true
   },
   "outputs": [],
   "source": [
    "test_structure = isambard.ampal.convert_pdb_to_ampal('5ced.pdb')"
   ]
  },
  {
   "cell_type": "code",
   "execution_count": 44,
   "metadata": {
    "collapsed": true
   },
   "outputs": [],
   "source": [
    "cha = test_structure[1]"
   ]
  },
  {
   "cell_type": "code",
   "execution_count": 45,
   "metadata": {
    "collapsed": false
   },
   "outputs": [
    {
     "data": {
      "text/plain": [
       "'GKSSKALNEAAEQGDLAKVKNLVQKNKIDLNAQDETGMTPLMNAAMGGNLDIVKFLLSKKVNLELKNNGGETALAFAVTNDAYDVAEELIKAGANVDIIVAGDEGDTLFMRAAQNNKKTAESILAKNKSLINKANTLGETALFAVARYGTPADIDFLIKKGADLKLKNKKGQTALDVAKEASNQDTAKALSKKK'"
      ]
     },
     "execution_count": 45,
     "metadata": {},
     "output_type": "execute_result"
    }
   ],
   "source": [
    "cha.sequence"
   ]
  },
  {
   "cell_type": "code",
   "execution_count": 46,
   "metadata": {
    "collapsed": false
   },
   "outputs": [],
   "source": [
    "target.append(cha.get_slice_from_res_id('33', '39'))"
   ]
  },
  {
   "cell_type": "code",
   "execution_count": 47,
   "metadata": {
    "collapsed": true
   },
   "outputs": [],
   "source": [
    "target.append(cha.get_slice_from_res_id('42', '50'))"
   ]
  },
  {
   "cell_type": "code",
   "execution_count": 48,
   "metadata": {
    "collapsed": false
   },
   "outputs": [],
   "source": [
    "target.append(cha.get_slice_from_res_id('67', '73'))"
   ]
  },
  {
   "cell_type": "code",
   "execution_count": 49,
   "metadata": {
    "collapsed": false
   },
   "outputs": [],
   "source": [
    "target.append(cha.get_slice_from_res_id('76', '84'))"
   ]
  },
  {
   "cell_type": "code",
   "execution_count": 50,
   "metadata": {
    "collapsed": true
   },
   "outputs": [],
   "source": [
    "target.append(cha.get_slice_from_res_id('100', '106'))"
   ]
  },
  {
   "cell_type": "code",
   "execution_count": 51,
   "metadata": {
    "collapsed": true
   },
   "outputs": [],
   "source": [
    "target.append(cha.get_slice_from_res_id('109', '117'))"
   ]
  },
  {
   "cell_type": "code",
   "execution_count": 52,
   "metadata": {
    "collapsed": true
   },
   "outputs": [],
   "source": [
    "target.append(cha.get_slice_from_res_id('134', '140'))"
   ]
  },
  {
   "cell_type": "code",
   "execution_count": 53,
   "metadata": {
    "collapsed": false
   },
   "outputs": [],
   "source": [
    "target.append(cha.get_slice_from_res_id('143', '151'))"
   ]
  },
  {
   "cell_type": "code",
   "execution_count": 54,
   "metadata": {
    "collapsed": false
   },
   "outputs": [
    {
     "data": {
      "text/plain": [
       "['LNEAAEQ',\n",
       " 'LAKVKNLVQ',\n",
       " 'LMNAAMG',\n",
       " 'LDIVKFLLS',\n",
       " 'LAFAVTN',\n",
       " 'YDVAEELIK',\n",
       " 'LFMRAAQ',\n",
       " 'KKTAESILA']"
      ]
     },
     "execution_count": 54,
     "metadata": {},
     "output_type": "execute_result"
    }
   ],
   "source": [
    "target.sequences"
   ]
  },
  {
   "cell_type": "code",
   "execution_count": 55,
   "metadata": {
    "collapsed": false
   },
   "outputs": [],
   "source": [
    "rep_unit = HelPairOpt(*best_params)"
   ]
  },
  {
   "cell_type": "code",
   "execution_count": 56,
   "metadata": {
    "collapsed": true
   },
   "outputs": [],
   "source": [
    "class SolenoidOpt(isambard.topology.Solenoid):\n",
    "    def __init__(self, in_ru, repeats, rad, rise, rot_ang, xr, yr, zr):\n",
    "        ru = copy.deepcopy(in_ru)\n",
    "        ru.rotate(xr, (1, 0, 0))\n",
    "        ru.rotate(yr, (0, 1, 0))\n",
    "        ru.rotate(zr, (0, 0, 1))\n",
    "        super().__init__(ru, repeats, rad, rise, rot_ang, 'left')"
   ]
  },
  {
   "cell_type": "code",
   "execution_count": 57,
   "metadata": {
    "collapsed": true
   },
   "outputs": [],
   "source": [
    "target.relabel_polymers()"
   ]
  },
  {
   "cell_type": "code",
   "execution_count": 60,
   "metadata": {
    "collapsed": false
   },
   "outputs": [
    {
     "name": "stdout",
     "output_type": "stream",
     "text": [
      "Starting minimisation (2016-07-06 12:46:44)\n",
      "gen\tevals\tavg    \tstd   \tmin  \tmax  \n",
      "0  \t50   \t17.4172\t10.554\t4.287\t47.28\n",
      "1  \t50   \t12.816 \t7.07653\t4.271\t32.493\n",
      "2  \t50   \t9.67118\t5.07511\t4.04 \t22.361\n",
      "3  \t50   \t8.31146\t4.0416 \t4.04 \t20.962\n",
      "4  \t50   \t6.5904 \t2.58057\t3.983\t16.019\n",
      "5  \t50   \t5.45348\t1.67531\t2.881\t11.478\n",
      "6  \t50   \t4.88162\t1.26224\t2.222\t9.119 \n",
      "7  \t50   \t4.59456\t0.994539\t2.222\t7.012 \n",
      "8  \t50   \t4.26718\t0.846437\t2.222\t5.942 \n",
      "9  \t50   \t3.84306\t0.805185\t2.222\t5.498 \n",
      "10 \t50   \t3.71476\t0.806554\t2.222\t5.303 \n",
      "11 \t50   \t3.57308\t0.768325\t2.222\t5.303 \n",
      "12 \t50   \t3.39364\t0.669133\t2.222\t4.904 \n",
      "13 \t50   \t3.10748\t0.508661\t2.222\t4.255 \n",
      "14 \t50   \t2.9939 \t0.440154\t2.192\t4.105 \n",
      "15 \t50   \t2.83298\t0.413731\t2.192\t3.833 \n",
      "16 \t50   \t2.72926\t0.370741\t2.192\t3.833 \n",
      "17 \t50   \t2.6216 \t0.335714\t2.087\t3.833 \n",
      "18 \t50   \t2.51146\t0.270058\t2.087\t3.195 \n",
      "19 \t50   \t2.4657 \t0.251285\t2.087\t3.195 \n",
      "20 \t50   \t2.40436\t0.220913\t2.087\t3.195 \n",
      "21 \t50   \t2.34552\t0.157238\t2.087\t2.716 \n",
      "22 \t50   \t2.30144\t0.140528\t2.087\t2.716 \n",
      "23 \t50   \t2.24374\t0.0847851\t2.087\t2.496 \n",
      "24 \t50   \t2.21564\t0.0840556\t2.074\t2.496 \n",
      "25 \t50   \t2.20056\t0.080575 \t2.048\t2.496 \n",
      "26 \t50   \t2.18356\t0.0800783\t2.039\t2.496 \n",
      "27 \t50   \t2.16184\t0.0652862\t2.039\t2.346 \n",
      "28 \t50   \t2.14318\t0.0605352\t2.014\t2.267 \n",
      "29 \t50   \t2.12664\t0.0670683\t1.985\t2.267 \n",
      "30 \t50   \t2.10592\t0.0596315\t1.985\t2.226 \n",
      "31 \t50   \t2.0965 \t0.0565138\t1.985\t2.226 \n",
      "32 \t50   \t2.08336\t0.0492519\t1.985\t2.187 \n",
      "33 \t50   \t2.06658\t0.0533311\t1.935\t2.187 \n",
      "34 \t50   \t2.06108\t0.0506157\t1.935\t2.185 \n",
      "35 \t50   \t2.0393 \t0.048033 \t1.935\t2.153 \n",
      "36 \t50   \t2.0319 \t0.0487037\t1.935\t2.153 \n",
      "37 \t50   \t2.02844\t0.0498406\t1.935\t2.153 \n",
      "38 \t50   \t2.01704\t0.0472055\t1.92 \t2.126 \n",
      "39 \t50   \t2.00708\t0.0498164\t1.92 \t2.126 \n",
      "40 \t50   \t1.99728\t0.0466236\t1.905\t2.126 \n",
      "41 \t50   \t1.98212\t0.0442229\t1.905\t2.079 \n",
      "42 \t50   \t1.97864\t0.0414766\t1.905\t2.067 \n",
      "43 \t50   \t1.965  \t0.0426741\t1.857\t2.053 \n",
      "44 \t50   \t1.9469 \t0.0421427\t1.837\t2.035 \n",
      "45 \t50   \t1.9313 \t0.0371259\t1.837\t2.03  \n",
      "46 \t50   \t1.91186\t0.0299112\t1.831\t1.969 \n",
      "47 \t50   \t1.90176\t0.0260304\t1.831\t1.943 \n",
      "48 \t50   \t1.88938\t0.0270517\t1.82 \t1.932 \n",
      "49 \t50   \t1.87696\t0.0294088\t1.802\t1.919 \n",
      "End of minimisation (2016-07-06 12:51:23)\n",
      "Run ID is DE_model\n",
      "Minimization time = 0:04:38.679596\n",
      "Evaluated 2550 models in total\n",
      "Best score is 1.802\n",
      "Best parameters are [<Assembly () containing 2 Polypeptides>, 4, 29.17288949861561, 7.372291461106786, -12.564202274345979, 17.154342703583364, -188.99477646145024, -177.81243485945865]\n"
     ]
    }
   ],
   "source": [
    "opt2 = isambard.optimisation.OptDE_rmsd(\n",
    "    SolenoidOpt, target.pdb)\n",
    "opt2.parameters(target.sequences,\n",
    "          [35, 10, 0, 0, 0, 0],\n",
    "          [20, 10.0, 200, 200, 200, 200],\n",
    "          [rep_unit, 4, 'var0', 'var1', 'var2', 'var3', 'var4', 'var5'])\n",
    "opt2.run_de(50, 50, 3)"
   ]
  },
  {
   "cell_type": "code",
   "execution_count": 61,
   "metadata": {
    "collapsed": false
   },
   "outputs": [],
   "source": [
    "best = SolenoidOpt(*opt2.parse_individual(opt2.halloffame[0]))"
   ]
  },
  {
   "cell_type": "code",
   "execution_count": 62,
   "metadata": {
    "collapsed": true
   },
   "outputs": [],
   "source": [
    "best.pack_new_sequences(target.sequences)"
   ]
  },
  {
   "cell_type": "code",
   "execution_count": 63,
   "metadata": {
    "collapsed": false
   },
   "outputs": [
    {
     "data": {
      "text/plain": [
       "['A', 'B', 'C', 'D', 'E', 'F', 'G', 'H']"
      ]
     },
     "execution_count": 63,
     "metadata": {},
     "output_type": "execute_result"
    }
   ],
   "source": [
    "[x.id for x in best]"
   ]
  },
  {
   "cell_type": "code",
   "execution_count": 64,
   "metadata": {
    "collapsed": false
   },
   "outputs": [
    {
     "data": {
      "text/plain": [
       "['A', 'B', 'C', 'D', 'E', 'F', 'G', 'H']"
      ]
     },
     "execution_count": 64,
     "metadata": {},
     "output_type": "execute_result"
    }
   ],
   "source": [
    "[x.id for x in target]"
   ]
  },
  {
   "cell_type": "code",
   "execution_count": 65,
   "metadata": {
    "collapsed": true
   },
   "outputs": [],
   "source": [
    "with open('/Users/ChrisWood/Desktop/blah3.pdb', 'w') as outf:\n",
    "    outf.write(best.pdb)"
   ]
  },
  {
   "cell_type": "markdown",
   "metadata": {
    "collapsed": true
   },
   "source": [
    "```\n",
    "ignoremissing\n",
    "align\n",
    "atoms ca\n",
    "fit\n",
    "atoms n,ca,c,o\n",
    "fit\n",
    "atoms *\n",
    "fit\n",
    "quit```"
   ]
  },
  {
   "cell_type": "code",
   "execution_count": null,
   "metadata": {
    "collapsed": true
   },
   "outputs": [],
   "source": []
  },
  {
   "cell_type": "code",
   "execution_count": null,
   "metadata": {
    "collapsed": true
   },
   "outputs": [],
   "source": []
  },
  {
   "cell_type": "code",
   "execution_count": null,
   "metadata": {
    "collapsed": true
   },
   "outputs": [],
   "source": []
  },
  {
   "cell_type": "code",
   "execution_count": null,
   "metadata": {
    "collapsed": true
   },
   "outputs": [],
   "source": []
  },
  {
   "cell_type": "code",
   "execution_count": null,
   "metadata": {
    "collapsed": true
   },
   "outputs": [],
   "source": []
  },
  {
   "cell_type": "code",
   "execution_count": null,
   "metadata": {
    "collapsed": true
   },
   "outputs": [],
   "source": []
  },
  {
   "cell_type": "code",
   "execution_count": null,
   "metadata": {
    "collapsed": true
   },
   "outputs": [],
   "source": []
  },
  {
   "cell_type": "code",
   "execution_count": null,
   "metadata": {
    "collapsed": true
   },
   "outputs": [],
   "source": []
  }
 ],
 "metadata": {
  "kernelspec": {
   "display_name": "Python 3",
   "language": "python",
   "name": "python3"
  },
  "language_info": {
   "codemirror_mode": {
    "name": "ipython",
    "version": 3
   },
   "file_extension": ".py",
   "mimetype": "text/x-python",
   "name": "python",
   "nbconvert_exporter": "python",
   "pygments_lexer": "ipython3",
   "version": "3.5.1"
  }
 },
 "nbformat": 4,
 "nbformat_minor": 0
}
