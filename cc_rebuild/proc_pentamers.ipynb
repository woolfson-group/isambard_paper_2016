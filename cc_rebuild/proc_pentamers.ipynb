{
 "cells": [
  {
   "cell_type": "code",
   "execution_count": null,
   "metadata": {
    "collapsed": false
   },
   "outputs": [],
   "source": [
    "import pickle\n",
    "\n",
    "import sqlalchemy\n",
    "import matplotlib.pyplot as plt\n",
    "import numpy\n",
    "\n",
    "%matplotlib inline"
   ]
  },
  {
   "cell_type": "markdown",
   "metadata": {},
   "source": [
    "# Pentamers"
   ]
  },
  {
   "cell_type": "code",
   "execution_count": null,
   "metadata": {
    "collapsed": false
   },
   "outputs": [],
   "source": [
    "from sqlalchemy import create_engine, Column, Float, Integer, String\n",
    "from sqlalchemy.ext.declarative import declarative_base\n",
    "from sqlalchemy.orm import sessionmaker\n",
    "\n",
    "# Connect to results database\n",
    "engine = create_engine(\n",
    "    'sqlite:///natural_rebuild.db', echo=False)\n",
    "Base = declarative_base()\n",
    "\n",
    "\n",
    "class CCPRebuildRes(Base):\n",
    "    __tablename__ = 'parallel_pentamer_rebuild'\n",
    "\n",
    "    id = Column(Integer, primary_key=True)\n",
    "    pdb = Column(String)\n",
    "    cc_id = Column(Integer)\n",
    "    oligomer_state = Column(Integer)\n",
    "    sequence = Column(String)\n",
    "    start1 = Column(Integer)\n",
    "    end1 = Column(Integer)\n",
    "    start2 = Column(Integer)\n",
    "    end2 = Column(Integer)\n",
    "    start3 = Column(Integer)\n",
    "    end3 = Column(Integer)\n",
    "    start4 = Column(Integer)\n",
    "    end4 = Column(Integer)\n",
    "    start5 = Column(Integer)\n",
    "    end5 = Column(Integer)\n",
    "    chain1 = Column(String)\n",
    "    chain2 = Column(String)\n",
    "    chain3 = Column(String)\n",
    "    chain4 = Column(String)\n",
    "    chain5 = Column(String)\n",
    "    register = Column(String)\n",
    "    radius = Column(Float)\n",
    "    pitch = Column(Float)\n",
    "    phica = Column(Float)\n",
    "    aa_rmsd = Column(Float)\n",
    "    bb_rmsd = Column(Float)\n",
    "    ca_rmsd = Column(Float)\n",
    "    aa_rmsd_100 = Column(Float)\n",
    "    bb_rmsd_100 = Column(Float)\n",
    "    ca_rmsd_100 = Column(Float)\n",
    "\n",
    "    def __repr__(self):\n",
    "        return \"<Coiled Coil Rebuild (cc_id='{}', CA_RMSD='{})>\".format(\n",
    "            self.cc_id, self.ca_rmsd)\n",
    "\n",
    "\n",
    "Base.metadata.create_all(engine)\n",
    "Session = sessionmaker(bind=engine)\n",
    "rebuild_res_session = Session()"
   ]
  },
  {
   "cell_type": "code",
   "execution_count": null,
   "metadata": {
    "collapsed": false
   },
   "outputs": [],
   "source": [
    "pentamer_models = rebuild_res_session.query(CCPRebuildRes).all()"
   ]
  },
  {
   "cell_type": "code",
   "execution_count": null,
   "metadata": {
    "collapsed": true
   },
   "outputs": [],
   "source": [
    "pentamer_model_dicts = [{x.name: getattr(foo, x.name) for x in foo.__table__.columns} for foo in pentamer_models]"
   ]
  },
  {
   "cell_type": "code",
   "execution_count": null,
   "metadata": {
    "collapsed": true
   },
   "outputs": [],
   "source": [
    "with open('pentamer_models.pickle', 'wb') as outf:\n",
    "    pickle.dump(pentamer_model_dicts, outf)"
   ]
  },
  {
   "cell_type": "code",
   "execution_count": null,
   "metadata": {
    "collapsed": true
   },
   "outputs": [],
   "source": []
  }
 ],
 "metadata": {
  "anaconda-cloud": {},
  "kernelspec": {
   "display_name": "Python [default]",
   "language": "python",
   "name": "python3"
  },
  "language_info": {
   "codemirror_mode": {
    "name": "ipython",
    "version": 3
   },
   "file_extension": ".py",
   "mimetype": "text/x-python",
   "name": "python",
   "nbconvert_exporter": "python",
   "pygments_lexer": "ipython3",
   "version": "3.5.2"
  }
 },
 "nbformat": 4,
 "nbformat_minor": 0
}
