{
 "cells": [
  {
   "cell_type": "code",
   "execution_count": null,
   "metadata": {
    "collapsed": false
   },
   "outputs": [],
   "source": [
    "import pickle\n",
    "\n",
    "import isambard\n",
    "import matplotlib.pyplot as plt\n",
    "import numpy\n",
    "\n",
    "%matplotlib inline"
   ]
  },
  {
   "cell_type": "code",
   "execution_count": null,
   "metadata": {
    "collapsed": false
   },
   "outputs": [],
   "source": [
    "with open('dimer_models.pickle', 'rb') as inf:\n",
    "    dimer_models = pickle.load(inf)"
   ]
  },
  {
   "cell_type": "code",
   "execution_count": null,
   "metadata": {
    "collapsed": true
   },
   "outputs": [],
   "source": [
    "with open('trimer_models.pickle', 'rb') as inf:\n",
    "    trimer_models = pickle.load(inf)"
   ]
  },
  {
   "cell_type": "code",
   "execution_count": null,
   "metadata": {
    "collapsed": true
   },
   "outputs": [],
   "source": [
    "with open('tetramer_models.pickle', 'rb') as inf:\n",
    "    tetramer_models = pickle.load(inf)"
   ]
  },
  {
   "cell_type": "code",
   "execution_count": null,
   "metadata": {
    "collapsed": false
   },
   "outputs": [],
   "source": [
    "with open('pentamer_models.pickle', 'rb') as inf:\n",
    "    pentamer_models = pickle.load(inf)"
   ]
  },
  {
   "cell_type": "code",
   "execution_count": null,
   "metadata": {
    "collapsed": false
   },
   "outputs": [],
   "source": [
    "def check_length(record, min_len=22):\n",
    "    if float(record['ca_rmsd_100']) > 30:\n",
    "        return False\n",
    "    elif (int(record['end1']) - int(record['start1'])) >= min_len:\n",
    "        return True\n",
    "    else:\n",
    "        return False"
   ]
  },
  {
   "cell_type": "code",
   "execution_count": null,
   "metadata": {
    "collapsed": false
   },
   "outputs": [],
   "source": [
    "numpy.mean([x['ca_rmsd_100'] for x in filter(check_length, trimer_models)])"
   ]
  },
  {
   "cell_type": "code",
   "execution_count": null,
   "metadata": {
    "collapsed": false
   },
   "outputs": [],
   "source": [
    "numpy.std([x['ca_rmsd_100'] for x in filter(check_length, trimer_models)])"
   ]
  },
  {
   "cell_type": "code",
   "execution_count": null,
   "metadata": {
    "collapsed": false
   },
   "outputs": [],
   "source": [
    "fig = plt.figure(figsize=(8, 8))\n",
    "ax = fig.add_subplot(1, 1, 1)\n",
    "ax.set_xlabel(\"Backbone RMSD 100 Score\", fontsize=22)\n",
    "ax.set_ylabel(\"Relative Frequency\", fontsize=22)\n",
    "ax.set_title(\"Histogram of RMSD100 Scores\\nfor Rebuilt Coiled Coils\", fontsize=22)\n",
    "data_sets = [dimer_models, trimer_models, tetramer_models, pentamer_models]\n",
    "labels = ['Dimers', 'Trimers', 'Tetramer', 'Pentamers']\n",
    "for models, label in zip(data_sets, labels):\n",
    "    ca_rmsds = [x['ca_rmsd_100'] for x in filter(check_length, models)]\n",
    "    weights = numpy.ones_like(ca_rmsds)/len(ca_rmsds)\n",
    "    ax.hist(ca_rmsds, bins=numpy.arange(0, 2, 0.1), weights=weights, alpha=0.4, label=label)\n",
    "for xtick in ax.get_xmajorticklabels():\n",
    "    xtick.set_fontsize(16)\n",
    "for ytick in ax.get_ymajorticklabels():\n",
    "    ytick.set_fontsize(16)\n",
    "ax.legend()"
   ]
  },
  {
   "cell_type": "code",
   "execution_count": null,
   "metadata": {
    "collapsed": false
   },
   "outputs": [],
   "source": [
    "numpy.mean([x['ca_rmsd_100'] for x in filter(check_length, dimer_models)])"
   ]
  },
  {
   "cell_type": "code",
   "execution_count": null,
   "metadata": {
    "collapsed": false
   },
   "outputs": [],
   "source": [
    "numpy.mean([x['ca_rmsd_100'] for x in filter(check_length, trimer_models)])"
   ]
  },
  {
   "cell_type": "code",
   "execution_count": null,
   "metadata": {
    "collapsed": false
   },
   "outputs": [],
   "source": [
    "numpy.mean([x['ca_rmsd_100'] for x in filter(check_length, tetramer_models)])"
   ]
  },
  {
   "cell_type": "code",
   "execution_count": null,
   "metadata": {
    "collapsed": false
   },
   "outputs": [],
   "source": [
    "numpy.median([x['ca_rmsd_100'] for x in filter(check_length, pentamer_models)])"
   ]
  },
  {
   "cell_type": "code",
   "execution_count": null,
   "metadata": {
    "collapsed": false
   },
   "outputs": [],
   "source": [
    "fig = plt.figure(figsize=(8, 8))\n",
    "ax = fig.add_subplot(1, 1, 1)\n",
    "ax.set_xlabel(\"Backbone RMSD 100 Score\", fontsize=22)\n",
    "ax.set_ylabel(\"Relative Frequency\", fontsize=22)\n",
    "ax.set_title(\"Histogram of RMSD100 Scores\\nfor Rebuilt Coiled Coils\", fontsize=22)\n",
    "data_sets = [dimer_models, trimer_models, tetramer_models, pentamer_models]\n",
    "labels = ['Dimers', 'Trimers', 'Tetramers', 'Pentamers']\n",
    "for models, label in zip(data_sets, labels):\n",
    "    ca_rmsds = [x['ca_rmsd_100'] for x in filter(check_length, models)]\n",
    "    weights = numpy.ones_like(ca_rmsds)/len(ca_rmsds)\n",
    "    ax.hist(ca_rmsds, bins=numpy.arange(0.0, 2, 0.1), weights=weights, alpha=0.4, label=label)\n",
    "for xtick in ax.get_xmajorticklabels():\n",
    "    xtick.set_fontsize(16)\n",
    "for ytick in ax.get_ymajorticklabels():\n",
    "    ytick.set_fontsize(16)\n",
    "ax.legend()"
   ]
  },
  {
   "cell_type": "code",
   "execution_count": null,
   "metadata": {
    "collapsed": true
   },
   "outputs": [],
   "source": [
    "fig.savefig('cc_hist.pdf')"
   ]
  },
  {
   "cell_type": "code",
   "execution_count": null,
   "metadata": {
    "collapsed": true
   },
   "outputs": [],
   "source": [
    "all_models = [dimer_models, trimer_models, tetramer_models, pentamer_models]\n",
    "ca_rmsds = [[x['ca_rmsd_100'] for x in y if check_length(x)] for y in all_models]"
   ]
  },
  {
   "cell_type": "code",
   "execution_count": null,
   "metadata": {
    "collapsed": false
   },
   "outputs": [],
   "source": [
    "len(list(filter(check_length, dimer_models)))"
   ]
  },
  {
   "cell_type": "code",
   "execution_count": null,
   "metadata": {
    "collapsed": false
   },
   "outputs": [],
   "source": [
    "len(list(filter(check_length, trimer_models)))"
   ]
  },
  {
   "cell_type": "code",
   "execution_count": null,
   "metadata": {
    "collapsed": false
   },
   "outputs": [],
   "source": [
    "len(list(filter(check_length, tetramer_models)))"
   ]
  },
  {
   "cell_type": "code",
   "execution_count": null,
   "metadata": {
    "collapsed": false
   },
   "outputs": [],
   "source": [
    "len(list(filter(check_length, pentamer_models)))"
   ]
  },
  {
   "cell_type": "code",
   "execution_count": null,
   "metadata": {
    "collapsed": true
   },
   "outputs": [],
   "source": [
    "import itertools"
   ]
  },
  {
   "cell_type": "code",
   "execution_count": null,
   "metadata": {
    "collapsed": false
   },
   "outputs": [],
   "source": [
    "len(list(itertools.chain(*ca_rmsds)))"
   ]
  },
  {
   "cell_type": "code",
   "execution_count": null,
   "metadata": {
    "collapsed": false
   },
   "outputs": [],
   "source": [
    "numpy.std(list(itertools.chain(*ca_rmsds)))"
   ]
  },
  {
   "cell_type": "code",
   "execution_count": null,
   "metadata": {
    "collapsed": false
   },
   "outputs": [],
   "source": [
    "numpy.mean(list(itertools.chain(*ca_rmsds)))"
   ]
  },
  {
   "cell_type": "code",
   "execution_count": null,
   "metadata": {
    "collapsed": false
   },
   "outputs": [],
   "source": [
    "fig = plt.figure(figsize=(8, 8))\n",
    "ax = fig.add_subplot(1, 1, 1)\n",
    "ax.set_xlabel(\"Coiled Coil Oligomer State\", fontsize=22)\n",
    "ax.set_ylabel(\"Backbone RMSD 100 Score\", fontsize=22)\n",
    "ax.set_title(\"Boxplot of RMSD100 Scores\\nfor Rebuilt Coiled Coils\", fontsize=22)\n",
    "ax.set_ylim(0, 1.5)\n",
    "boxes = ax.boxplot(ca_rmsds, patch_artist=True)\n",
    "colours = ['cyan', 'lightblue', 'lightgreen', 'tan']\n",
    "for patch, colour in zip(boxes['boxes'], colours):\n",
    "    patch.set_color('black')\n",
    "    patch.set_facecolor(colour)\n",
    "ax.set_xticklabels(['Dimer', 'Trimer', 'Tetramer', 'Pentamer'], fontsize=16)\n",
    "for label in ax.get_ymajorticklabels():\n",
    "    label.set_fontsize(16)"
   ]
  },
  {
   "cell_type": "code",
   "execution_count": null,
   "metadata": {
    "collapsed": true
   },
   "outputs": [],
   "source": [
    "fig.savefig('cc_boxplot.pdf')"
   ]
  },
  {
   "cell_type": "code",
   "execution_count": null,
   "metadata": {
    "collapsed": true
   },
   "outputs": [],
   "source": []
  }
 ],
 "metadata": {
  "anaconda-cloud": {},
  "kernelspec": {
   "display_name": "Python [default]",
   "language": "python",
   "name": "python3"
  },
  "language_info": {
   "codemirror_mode": {
    "name": "ipython",
    "version": 3
   },
   "file_extension": ".py",
   "mimetype": "text/x-python",
   "name": "python",
   "nbconvert_exporter": "python",
   "pygments_lexer": "ipython3",
   "version": "3.5.2"
  }
 },
 "nbformat": 4,
 "nbformat_minor": 0
}
