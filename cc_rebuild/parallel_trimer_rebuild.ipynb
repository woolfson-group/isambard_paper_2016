{
 "cells": [
  {
   "cell_type": "code",
   "execution_count": null,
   "metadata": {
    "collapsed": true
   },
   "outputs": [],
   "source": [
    "import glob\n",
    "from concurrent import futures\n",
    "\n",
    "import isambard\n",
    "import numpy"
   ]
  },
  {
   "cell_type": "markdown",
   "metadata": {},
   "source": [
    "<h2>Modelling of Natural Parallel Coiled Coils Using ISAMBARD</h2>"
   ]
  },
  {
   "cell_type": "markdown",
   "metadata": {},
   "source": [
    "To test the structure building apet of ISAMBARD, natural structures will be recreated using the `CoiledCoil` topology. There are multiple steps that are required to do this:\n",
    "\n",
    "1. Find coiled-coil regions in natural structures.\n",
    "    * This is performed using data extracted from [CC+](http://coiledcoils.chm.bris.ac.uk/ccplus/search/).\n",
    "1. Translate the register into phica values.\n",
    "1. Setup a database to store the results.\n",
    "1. Create the reference structure.\n",
    "1. Initialise and run the optimiser."
   ]
  },
  {
   "cell_type": "markdown",
   "metadata": {},
   "source": [
    "<h3>1. Prepare CC Records</h3>"
   ]
  },
  {
   "cell_type": "code",
   "execution_count": null,
   "metadata": {
    "collapsed": true
   },
   "outputs": [],
   "source": [
    "header = \"| pdb  | coiledcoil | helices | orientation | partnering | repeat    | docktype | minimum | average | maximum | redundancy | pdb  | coiledcoil | helix | chain | helixstart | helixlength | helixend | helixsequence                                       | assignedstart | assignedlength | assignedend | assignedsequence              | assignedregister              | assignedinterrupts |\""
   ]
  },
  {
   "cell_type": "code",
   "execution_count": null,
   "metadata": {
    "collapsed": false
   },
   "outputs": [],
   "source": [
    "header = [x.strip() for x in header.split('|')][1:-1]"
   ]
  },
  {
   "cell_type": "code",
   "execution_count": null,
   "metadata": {
    "collapsed": false
   },
   "outputs": [],
   "source": [
    "header"
   ]
  },
  {
   "cell_type": "code",
   "execution_count": null,
   "metadata": {
    "collapsed": false
   },
   "outputs": [],
   "source": [
    "with open('all_coiled_coils.txt', 'r') as inf:\n",
    "    cc_records = inf.readlines()\n",
    "cc_records = [x.strip().split() for x in cc_records]"
   ]
  },
  {
   "cell_type": "markdown",
   "metadata": {},
   "source": [
    "Filter for cannonical with redundency of 70."
   ]
  },
  {
   "cell_type": "code",
   "execution_count": null,
   "metadata": {
    "collapsed": true
   },
   "outputs": [],
   "source": [
    "def parallel_filter(record):\n",
    "    if record[5] != 'canonical':\n",
    "        return False\n",
    "    if int(record[10]) > 70:\n",
    "        return False\n",
    "    if record[4] != 'homo':\n",
    "        return False\n",
    "    orientations = [x for x in record[3] if (x == 'u') or (x == 'd')]\n",
    "    if len(orientations) != 3:\n",
    "        return False\n",
    "    if len(set(orientations)) != 1:\n",
    "        return False\n",
    "    return True"
   ]
  },
  {
   "cell_type": "code",
   "execution_count": null,
   "metadata": {
    "collapsed": true
   },
   "outputs": [],
   "source": [
    "parallel_trimers = list(filter(parallel_filter, cc_records))"
   ]
  },
  {
   "cell_type": "code",
   "execution_count": null,
   "metadata": {
    "collapsed": true
   },
   "outputs": [],
   "source": [
    "trimer_ccs = {}\n",
    "for helix in parallel_trimers:\n",
    "    k = tuple(helix[:2])\n",
    "    if k in trimer_ccs:\n",
    "        trimer_ccs[k].append(helix)\n",
    "    else:\n",
    "        trimer_ccs[k] = [helix]"
   ]
  },
  {
   "cell_type": "code",
   "execution_count": null,
   "metadata": {
    "collapsed": false
   },
   "outputs": [],
   "source": [
    "assert all([True if len(x) == 3 else False for x in trimer_ccs.values()])"
   ]
  },
  {
   "cell_type": "code",
   "execution_count": null,
   "metadata": {
    "collapsed": false
   },
   "outputs": [],
   "source": [
    "final_trimer_records = []\n",
    "for helices in trimer_ccs.values():\n",
    "    record = []\n",
    "    for i in range(len(helices[0])):\n",
    "        record.append([helix[i] for helix in helices])\n",
    "    final_trimer_records.append(record)"
   ]
  },
  {
   "cell_type": "code",
   "execution_count": null,
   "metadata": {
    "collapsed": false
   },
   "outputs": [],
   "source": [
    "len(final_trimer_records)"
   ]
  },
  {
   "cell_type": "markdown",
   "metadata": {},
   "source": [
    "<h3>2. Translate Register to $\\phi C \\alpha$</h3>"
   ]
  },
  {
   "cell_type": "code",
   "execution_count": null,
   "metadata": {
    "collapsed": true
   },
   "outputs": [],
   "source": [
    "register_phis = {\n",
    "    'a': 25.714285714285715,\n",
    "    'e': 77.14285714285714,\n",
    "    'b': 128.57142857142858,\n",
    "    'f': 180.0,\n",
    "    'c': 231.42857142857144,\n",
    "    'g': 282.8571428571429,\n",
    "    'd': 334.2857142857143\n",
    "}"
   ]
  },
  {
   "cell_type": "markdown",
   "metadata": {},
   "source": [
    "<h3>3. Setup Results Database</h3>"
   ]
  },
  {
   "cell_type": "markdown",
   "metadata": {},
   "source": [
    "Using SQLite to store the data from the rebuild to make it easier to transport and query."
   ]
  },
  {
   "cell_type": "code",
   "execution_count": null,
   "metadata": {
    "collapsed": true
   },
   "outputs": [],
   "source": [
    "from sqlalchemy import create_engine, Column, Float, Integer, String\n",
    "from sqlalchemy.ext.declarative import declarative_base\n",
    "from sqlalchemy.orm import sessionmaker\n",
    "\n",
    "# Connect to results database\n",
    "engine = create_engine('sqlite:///natural_rebuild.db', echo=False)\n",
    "Base = declarative_base()\n",
    "\n",
    "\n",
    "class CCPRebuildRes(Base):\n",
    "    __tablename__ = 'parallel_trimer_rebuild'\n",
    "\n",
    "    id = Column(Integer, primary_key=True)\n",
    "    pdb = Column(String)\n",
    "    cc_id = Column(Integer)\n",
    "    oligomer_state = Column(Integer)\n",
    "    sequence = Column(String)\n",
    "    start1 = Column(Integer)\n",
    "    end1 = Column(Integer)\n",
    "    start2 = Column(Integer)\n",
    "    end2 = Column(Integer)\n",
    "    start3 = Column(Integer)\n",
    "    end3 = Column(Integer)\n",
    "    chain1 = Column(String)\n",
    "    chain2 = Column(String)\n",
    "    chain3 = Column(String)\n",
    "    register = Column(String)\n",
    "    radius = Column(Float)\n",
    "    pitch = Column(Float)\n",
    "    phica = Column(Float)\n",
    "    aa_rmsd = Column(Float)\n",
    "    bb_rmsd = Column(Float)\n",
    "    ca_rmsd = Column(Float)\n",
    "    aa_rmsd_100 = Column(Float)\n",
    "    bb_rmsd_100 = Column(Float)\n",
    "    ca_rmsd_100 = Column(Float)\n",
    "\n",
    "    def __repr__(self):\n",
    "        return \"<Coiled Coil Rebuild (cc_id='{}', CA_RMSD='{})>\".format(\n",
    "            self.cc_id, self.ca_rmsd)\n",
    "\n",
    "\n",
    "Base.metadata.create_all(engine)\n",
    "Session = sessionmaker(bind=engine)\n",
    "rebuild_res_session = Session()"
   ]
  },
  {
   "cell_type": "markdown",
   "metadata": {},
   "source": [
    "<h3>4. Create the Reference Structure</h3>"
   ]
  },
  {
   "cell_type": "code",
   "execution_count": null,
   "metadata": {
    "collapsed": true
   },
   "outputs": [],
   "source": [
    "def create_reference_ampal(pdb, cc, sequence, starts, ends, chains):\n",
    "    base_mmol_path = '/structural_bioinformatics/data/{}/{}/structures/*'\n",
    "    mmol_path = glob.glob(base_mmol_path.format(pdb[1:3], pdb[:4]))[0]\n",
    "    reference_cc_full = isambard.ampal.convert_pdb_to_ampal(mmol_path)\n",
    "    return reference_cc_full"
   ]
  },
  {
   "cell_type": "markdown",
   "metadata": {},
   "source": [
    "<h3>5. Create Function for Rebuilding and Logging</h3>"
   ]
  },
  {
   "cell_type": "code",
   "execution_count": null,
   "metadata": {
    "collapsed": true
   },
   "outputs": [],
   "source": [
    "def rmsd_100(rmsd, n):\n",
    "    return rmsd/(1+numpy.log(numpy.sqrt(n/100)))"
   ]
  },
  {
   "cell_type": "code",
   "execution_count": null,
   "metadata": {
    "collapsed": true
   },
   "outputs": [],
   "source": [
    "def align_from_record(record, gens=50):\n",
    "    pdb = record[0][0]\n",
    "    cc_id = record[1][0]\n",
    "    sequence = record[20][0]\n",
    "    starts = record[17]\n",
    "    ends = record[19]\n",
    "    chains = record[12]\n",
    "    register = record[21][0]\n",
    "    sequence = record[20][0]\n",
    "    hel_len = len(sequence)\n",
    "    n = len(chains)\n",
    "    \n",
    "    try:\n",
    "        reference = create_reference_ampal(pdb, cc_id, sequence, starts, ends, chains)\n",
    "    except KeyError:\n",
    "        return pdb, cc_id\n",
    "    opt = isambard.optimisation.DE_RMSD(\n",
    "        isambard.specifications.CoiledCoil.from_parameters, reference.pdb)\n",
    "    opt.parameters([sequence]*n,\n",
    "              [6.0, 200, register_phis[register[0]]],\n",
    "              [1.0, 150, 20],\n",
    "              [n, hel_len, 'var0', 'var1', 'var2'])\n",
    "    opt.run_opt(20, gens, 1)\n",
    "    parameters = opt.parse_individual(opt.halloffame[0])\n",
    "    cc = isambard.specifications.CoiledCoil.from_parameters(*parameters)\n",
    "    cc.pack_new_sequences([sequence]*n)\n",
    "    rmsds = isambard.external_programs.run_profit(\n",
    "        cc.pdb, reference.pdb, path1=False, path2=False)\n",
    "    rmsd_100s = [rmsd_100(x, n*hel_len) for x in rmsds]\n",
    "    rbr = CCPRebuildRes(pdb=pdb, cc_id=int(cc_id), oligomer_state=n, sequence=sequence,\n",
    "                        start1=int(starts[0]), end1=int(ends[0]),\n",
    "                        start2=int(starts[1]), end2=int(ends[1]),\n",
    "                        chain1=chains[0], chain2=chains[1], register=register[0],\n",
    "                        radius=parameters[2], pitch=parameters[3], phica=parameters[4],\n",
    "                        aa_rmsd=rmsds[2], bb_rmsd=rmsds[1], ca_rmsd=rmsds[0],\n",
    "                        aa_rmsd_100=rmsd_100s[2], bb_rmsd_100=rmsd_100s[1],\n",
    "                        ca_rmsd_100=rmsd_100s[0])\n",
    "    rebuild_res_session.add(rbr)\n",
    "    rebuild_res_session.commit()\n",
    "    return"
   ]
  },
  {
   "cell_type": "markdown",
   "metadata": {},
   "source": [
    "<h3>6. Run with Parallelisation</h3>"
   ]
  },
  {
   "cell_type": "code",
   "execution_count": null,
   "metadata": {
    "collapsed": false,
    "scrolled": true
   },
   "outputs": [],
   "source": [
    "%%capture\n",
    "with futures.ProcessPoolExecutor(max_workers=24) as executor:\n",
    "    failures = executor.map(align_from_record, final_trimer_records)"
   ]
  },
  {
   "cell_type": "code",
   "execution_count": null,
   "metadata": {
    "collapsed": false
   },
   "outputs": [],
   "source": [
    "failed = []\n",
    "for x in failures:\n",
    "    try:\n",
    "        failed.append(x)\n",
    "    except:\n",
    "        pass"
   ]
  },
  {
   "cell_type": "code",
   "execution_count": null,
   "metadata": {
    "collapsed": false
   },
   "outputs": [],
   "source": [
    "failed"
   ]
  },
  {
   "cell_type": "code",
   "execution_count": null,
   "metadata": {
    "collapsed": true
   },
   "outputs": [],
   "source": []
  }
 ],
 "metadata": {
  "anaconda-cloud": {},
  "kernelspec": {
   "display_name": "Python [default]",
   "language": "python",
   "name": "python3"
  },
  "language_info": {
   "codemirror_mode": {
    "name": "ipython",
    "version": 3
   },
   "file_extension": ".py",
   "mimetype": "text/x-python",
   "name": "python",
   "nbconvert_exporter": "python",
   "pygments_lexer": "ipython3",
   "version": "3.5.2"
  }
 },
 "nbformat": 4,
 "nbformat_minor": 0
}
