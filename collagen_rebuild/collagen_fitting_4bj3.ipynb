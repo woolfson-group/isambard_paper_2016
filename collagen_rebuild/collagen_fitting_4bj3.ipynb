{
 "cells": [
  {
   "cell_type": "code",
   "execution_count": null,
   "metadata": {
    "collapsed": false
   },
   "outputs": [],
   "source": [
    "import isambard"
   ]
  },
  {
   "cell_type": "code",
   "execution_count": null,
   "metadata": {
    "collapsed": true
   },
   "outputs": [],
   "source": [
    "col_pdb = isambard.ampal.convert_pdb_to_ampal('4bj3.pdb')"
   ]
  },
  {
   "cell_type": "code",
   "execution_count": null,
   "metadata": {
    "collapsed": false
   },
   "outputs": [],
   "source": [
    "col_pdb"
   ]
  },
  {
   "cell_type": "code",
   "execution_count": null,
   "metadata": {
    "collapsed": false
   },
   "outputs": [],
   "source": [
    "col_pdb.sequences"
   ]
  },
  {
   "cell_type": "code",
   "execution_count": null,
   "metadata": {
    "collapsed": true
   },
   "outputs": [],
   "source": [
    "ex_col = isambard.ampal.Assembly()\n",
    "ex_col._molecules.extend(col_pdb[2:])"
   ]
  },
  {
   "cell_type": "code",
   "execution_count": null,
   "metadata": {
    "collapsed": false
   },
   "outputs": [],
   "source": [
    "ex_col"
   ]
  },
  {
   "cell_type": "code",
   "execution_count": null,
   "metadata": {
    "collapsed": false
   },
   "outputs": [],
   "source": [
    "ex_col.sequences"
   ]
  },
  {
   "cell_type": "code",
   "execution_count": null,
   "metadata": {
    "collapsed": false
   },
   "outputs": [],
   "source": [
    "for monomer in ex_col.get_monomers():\n",
    "    if monomer.mol_code == 'HYP':\n",
    "        del(monomer.atoms['OD1'])\n",
    "        monomer.mol_code = 'PRO'\n",
    "        monomer.mol_letter = 'P'\n",
    "        monomer.is_hetero = False"
   ]
  },
  {
   "cell_type": "code",
   "execution_count": null,
   "metadata": {
    "collapsed": false
   },
   "outputs": [],
   "source": [
    "ex_col.sequences"
   ]
  },
  {
   "cell_type": "code",
   "execution_count": null,
   "metadata": {
    "collapsed": false
   },
   "outputs": [],
   "source": [
    "class CollagenExpParams(isambard.specifications.CoiledCoil):\n",
    "    def __init__(self, aa=28, major_radius=5, major_pitch=85, p1=27, p2=27, p3=27, z_scale=1.0, eep1=0, eep2=0, auto_build=True):\n",
    "        n = 3\n",
    "        super().__init__(n, auto_build=False)\n",
    "        self.aas = [aa] * n\n",
    "        self.phi_c_alphas = [p1, p2, p3]\n",
    "        self.minor_helix_types = ['PPII'] * n\n",
    "        self.major_pitches = [major_pitch] * n\n",
    "        self.major_radii = [major_radius] * n\n",
    "        self.major_handedness = ['r'] * 3\n",
    "        self.minor_repeats = [None] * 3\n",
    "        rpr_ppii = 3.1\n",
    "        self.z_shifts = [-rpr_ppii * (2 * z_scale), 0.0, -rpr_ppii * z_scale]\n",
    "        rot_adj = [(z/p)*360 for z, p in zip(self.z_shifts, self.major_pitches)]\n",
    "        self.rotational_offsets = [r+ra for r, ra in zip(self.rotational_offsets, rot_adj)]\n",
    "        self.rotational_offsets[1] += eep1\n",
    "        self.rotational_offsets[2] += eep2\n",
    "        if auto_build:\n",
    "            self.build()"
   ]
  },
  {
   "cell_type": "code",
   "execution_count": null,
   "metadata": {
    "collapsed": false
   },
   "outputs": [],
   "source": [
    "col_mod = CollagenExpParams(aa=16, major_radius=3.5, major_pitch=65)"
   ]
  },
  {
   "cell_type": "code",
   "execution_count": null,
   "metadata": {
    "collapsed": false
   },
   "outputs": [],
   "source": [
    "col_mod.rotational_offsets"
   ]
  },
  {
   "cell_type": "code",
   "execution_count": null,
   "metadata": {
    "collapsed": false
   },
   "outputs": [],
   "source": [
    "col_mod.pack_new_sequences([x[1:-1] for x in ex_col.sequences])"
   ]
  },
  {
   "cell_type": "code",
   "execution_count": null,
   "metadata": {
    "collapsed": false
   },
   "outputs": [],
   "source": [
    "col_mod.sequences"
   ]
  },
  {
   "cell_type": "code",
   "execution_count": null,
   "metadata": {
    "collapsed": false
   },
   "outputs": [],
   "source": [
    "isambard.external_programs.run_profit(ex_col.pdb, col_mod.pdb, path1=False, path2=False)"
   ]
  },
  {
   "cell_type": "code",
   "execution_count": null,
   "metadata": {
    "collapsed": true
   },
   "outputs": [],
   "source": [
    "sequences = col_mod.sequences"
   ]
  },
  {
   "cell_type": "code",
   "execution_count": null,
   "metadata": {
    "collapsed": false
   },
   "outputs": [],
   "source": [
    "sequences"
   ]
  },
  {
   "cell_type": "markdown",
   "metadata": {},
   "source": [
    "This fitting required specific definition of the zone using the following script:\n",
    "\n",
    "```\n",
    "ignoremissing\n",
    "align C*:A*\n",
    "align D*:C* append\n",
    "align E*:B* append\n",
    "atoms ca\n",
    "fit\n",
    "atoms n,ca,c,o\n",
    "fit\n",
    "atoms *\n",
    "fit\n",
    "quit```"
   ]
  },
  {
   "cell_type": "code",
   "execution_count": null,
   "metadata": {
    "collapsed": false
   },
   "outputs": [],
   "source": [
    "opt = isambard.optimisation.DE_RMSD(\n",
    "    CollagenExpParams, col_pdb.pdb)\n",
    "opt.parameters(sequences,\n",
    "          [3.5, 65, 0, 1.0, 0, 0],\n",
    "          [2.0, 40, 180, 1, 30, 30],\n",
    "          [16, 'var0', 'var1', 'var2', 'var2', 'var2', 'var3', 'var4', 'var5'])\n",
    "opt.run_opt(30, 50, 3)"
   ]
  },
  {
   "cell_type": "code",
   "execution_count": null,
   "metadata": {
    "collapsed": false
   },
   "outputs": [],
   "source": [
    "best = CollagenExpParams(*opt.parse_individual(opt.halloffame[0]))\n",
    "best.pack_new_sequences(sequences)"
   ]
  },
  {
   "cell_type": "code",
   "execution_count": null,
   "metadata": {
    "collapsed": true
   },
   "outputs": [],
   "source": []
  }
 ],
 "metadata": {
  "anaconda-cloud": {},
  "kernelspec": {
   "display_name": "Python [default]",
   "language": "python",
   "name": "python3"
  },
  "language_info": {
   "codemirror_mode": {
    "name": "ipython",
    "version": 3
   },
   "file_extension": ".py",
   "mimetype": "text/x-python",
   "name": "python",
   "nbconvert_exporter": "python",
   "pygments_lexer": "ipython3",
   "version": "3.5.2"
  }
 },
 "nbformat": 4,
 "nbformat_minor": 0
}
