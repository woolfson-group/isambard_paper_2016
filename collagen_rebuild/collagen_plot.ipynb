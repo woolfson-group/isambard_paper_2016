{
 "cells": [
  {
   "cell_type": "code",
   "execution_count": null,
   "metadata": {
    "collapsed": true
   },
   "outputs": [],
   "source": [
    "import matplotlib.pyplot as plt\n",
    "import numpy\n",
    "%matplotlib inline"
   ]
  },
  {
   "cell_type": "code",
   "execution_count": null,
   "metadata": {
    "collapsed": true
   },
   "outputs": [],
   "source": [
    "def rmsd_100(rmsd, n):\n",
    "    return rmsd/(1+numpy.log(numpy.sqrt(n/100)))"
   ]
  },
  {
   "cell_type": "code",
   "execution_count": null,
   "metadata": {
    "collapsed": true
   },
   "outputs": [],
   "source": [
    "rmsds = [\n",
    "    ('1cag', 1.449, 29),\n",
    "    ('5cjb', 0.938, 20),\n",
    "    ('4z1r', 1.097, 20),\n",
    "    ('4bj3', 0.913, 16),\n",
    "    ('4axy', 0.877, 18),\n",
    "    ('3wn8', 0.950, 19),\n",
    "    ('3t4f', 1.002, 23),\n",
    "    ('3b0s', 1.047, 27),\n",
    "    ('3pob', 0.879, 23)\n",
    "]"
   ]
  },
  {
   "cell_type": "code",
   "execution_count": null,
   "metadata": {
    "collapsed": true
   },
   "outputs": [],
   "source": [
    "rmsd_100s = []\n",
    "for x in rmsds:\n",
    "    rmsd_100s.append((x[0], rmsd_100(x[1], x[2]*3)))"
   ]
  },
  {
   "cell_type": "code",
   "execution_count": null,
   "metadata": {
    "collapsed": false
   },
   "outputs": [],
   "source": [
    "rmsd_100s"
   ]
  },
  {
   "cell_type": "code",
   "execution_count": null,
   "metadata": {
    "collapsed": false
   },
   "outputs": [],
   "source": [
    "sorted_rmsd_100s = sorted(rmsd_100s, key=lambda x: x[1])"
   ]
  },
  {
   "cell_type": "code",
   "execution_count": null,
   "metadata": {
    "collapsed": false
   },
   "outputs": [],
   "source": [
    "sorted_rmsd_100s"
   ]
  },
  {
   "cell_type": "code",
   "execution_count": null,
   "metadata": {
    "collapsed": false
   },
   "outputs": [],
   "source": [
    "numpy.mean([x[1] for x in sorted_rmsd_100s])"
   ]
  },
  {
   "cell_type": "code",
   "execution_count": null,
   "metadata": {
    "collapsed": false
   },
   "outputs": [],
   "source": [
    "numpy.std([x[1] for x in sorted_rmsd_100s])"
   ]
  },
  {
   "cell_type": "code",
   "execution_count": null,
   "metadata": {
    "collapsed": true
   },
   "outputs": [],
   "source": [
    "sorted_rmsds = sorted(rmsds, key=lambda x: x[1])\n",
    "indices = range(len(rmsds))"
   ]
  },
  {
   "cell_type": "code",
   "execution_count": null,
   "metadata": {
    "collapsed": false
   },
   "outputs": [],
   "source": [
    "fig = plt.figure()\n",
    "ax = fig.add_subplot(1, 1, 1)\n",
    "ax.set_xticks([x+0.4 for x in indices])\n",
    "ax.set_xticklabels([x[0] for x in sorted_rmsds], rotation='vertical', fontsize=14)\n",
    "ax.set_ylabel(\"RMSD Score\", fontsize=18)\n",
    "ax.bar(indices, [x[1] for x in sorted_rmsds], alpha=0.4)"
   ]
  },
  {
   "cell_type": "code",
   "execution_count": null,
   "metadata": {
    "collapsed": false
   },
   "outputs": [],
   "source": [
    "fig = plt.figure(figsize=(8, 8))\n",
    "ax = fig.add_subplot(1, 1, 1)\n",
    "ax.set_xlabel(\"Accession Code\", fontsize=22)\n",
    "ax.set_ylabel(\"Backbone RMSD 100 Score\", fontsize=22)\n",
    "ax.set_title(\"RMSD100 Scores for Rebuilt\\nCollagen/Collagen-like Peptides\", fontsize=22)\n",
    "ax.set_xticks([x+0.4 for x in indices])\n",
    "ax.set_xticklabels([x[0] for x in sorted_rmsd_100s], rotation='vertical', fontsize=16)\n",
    "ax.set_ylim(0, 2.0)\n",
    "for label in ax.get_ymajorticklabels():\n",
    "    label.set_fontsize(16)\n",
    "ax.bar(indices, [x[1] for x in sorted_rmsd_100s], alpha=0.4)"
   ]
  },
  {
   "cell_type": "code",
   "execution_count": null,
   "metadata": {
    "collapsed": true
   },
   "outputs": [],
   "source": [
    "fig.savefig('collagen_plot.pdf')"
   ]
  },
  {
   "cell_type": "code",
   "execution_count": null,
   "metadata": {
    "collapsed": true
   },
   "outputs": [],
   "source": []
  }
 ],
 "metadata": {
  "anaconda-cloud": {},
  "kernelspec": {
   "display_name": "Python [default]",
   "language": "python",
   "name": "python3"
  },
  "language_info": {
   "codemirror_mode": {
    "name": "ipython",
    "version": 3
   },
   "file_extension": ".py",
   "mimetype": "text/x-python",
   "name": "python",
   "nbconvert_exporter": "python",
   "pygments_lexer": "ipython3",
   "version": "3.5.2"
  }
 },
 "nbformat": 4,
 "nbformat_minor": 0
}
